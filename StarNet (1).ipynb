{
 "cells": [
  {
   "cell_type": "markdown",
   "id": "d35e76dd-12db-45d2-9102-fecccc8ac2e0",
   "metadata": {},
   "source": [
    "# **Development of StarNet**\n",
    "<div class=\"alert alert-block alert-info\">\n",
    "<b>Preamble:</b> In fulfiment of Part I of the project, we develop StarNet: a supervised convolutional neural network model that can predict stellar labels. The model is trained and applied separately to synthetic JWST stellar spectra and real APOGEE data, in both cases predicting stellar labels with excellent precision and accuracy.\n",
    "</div>"
   ]
  },
  {
   "cell_type": "markdown",
   "id": "92b1959d-af6e-42fc-9299-4bdfe0b8455a",
   "metadata": {},
   "source": [
    "## **Table of Contents**\n",
    "* ### [0. Set Up](#set-up) ###\n",
    "* ### [1. Process Data](#process-data) ###\n",
    "  * #### [1.1. Load Data](#load-data) ####\n",
    "  * #### [1.2. Prepare Data](#prep-data) ####\n",
    "  * #### [1.3. Emulate Real Data](#emulate-real) ####\n",
    "  * #### [1.4. Partition Data](#partition-data) ####\n",
    "* ### [2. Build Model](#build-model) ###\n",
    "  * #### [2.1. Set up](#set-up-model) ####\n",
    "  * #### [2.2. Create CNN](#create-CNN) ####\n",
    "* ### [3. Train Model](#train-model) ###\n",
    "  * #### [3.1. Set up](#set-up-train) ####\n",
    "  * #### [3.2. Run training](#run-train) ####\n",
    "  * #### [3.3. Plot losses & save models](#plot-save) #### \n",
    "* ### [4. Test Model](#test-model) ###\n",
    "  * #### [4.1. Get test predictions](#get-test-preds) ####\n",
    "  * #### [4.2. Plot residuals](#plot-residuals) ####\n",
    "  * #### [4.3. Get metrics](#get-metrics) ####\n",
    "* ### [5. Appendix](#appendix) ###\n",
    "* ### [6. References](#refs) ###"
   ]
  },
  {
   "cell_type": "markdown",
   "id": "ed00a8c2-07ac-449e-aba8-abe2cc131569",
   "metadata": {},
   "source": [
    "## **0. Set Up** <a class=\"anchor\" id=\"set-up\"></a>"
   ]
  },
  {
   "cell_type": "code",
   "execution_count": 1,
   "id": "81d0c651-5803-462d-811d-74eda0b8bc67",
   "metadata": {},
   "outputs": [
    {
     "name": "stderr",
     "output_type": "stream",
     "text": [
      "2024-12-11 10:54:57.778701: I tensorflow/core/platform/cpu_feature_guard.cc:210] This TensorFlow binary is optimized to use available CPU instructions in performance-critical operations.\n",
      "To enable the following instructions: AVX2 FMA, in other operations, rebuild TensorFlow with the appropriate compiler flags.\n",
      "2024-12-11 10:54:59.823559: W tensorflow/compiler/tf2tensorrt/utils/py_utils.cc:38] TF-TRT Warning: Could not find TensorRT\n"
     ]
    }
   ],
   "source": [
    "## Import packages ##\n",
    "# Standard library\n",
    "import os\n",
    "import random\n",
    "import time\n",
    "import warnings\n",
    "from collections import Counter, defaultdict\n",
    "from pathlib import Path\n",
    "\n",
    "# Numerical and data analysis\n",
    "import numpy as np\n",
    "import pandas as pd\n",
    "\n",
    "# Visualization\n",
    "import itertools\n",
    "import matplotlib.pyplot as plt\n",
    "import seaborn as sns\n",
    "from IPython.display import display\n",
    "from matplotlib.colors import Normalize\n",
    "from matplotlib.ticker import MaxNLocator\n",
    "from matplotlib import gridspec\n",
    "from matplotlib.widgets import Slider\n",
    "from mpl_toolkits.mplot3d import Axes3D\n",
    "\n",
    "# Signal processing and astronomy\n",
    "import cv2\n",
    "import scipy.stats as stats\n",
    "from scipy.ndimage import gaussian_filter1d\n",
    "from scipy.signal import convolve, fftconvolve\n",
    "from scipy.special import erf\n",
    "from scipy.spatial.distance import pdist, squareform\n",
    "from astropy import constants, units\n",
    "from astropy.io import fits\n",
    "\n",
    "# Machine learning and data processing\n",
    "import umap\n",
    "from sklearn.decomposition import PCA\n",
    "from sklearn.ensemble import AdaBoostRegressor, RandomForestRegressor\n",
    "from sklearn.linear_model import Lasso, ElasticNetCV, LinearRegression, Ridge, LassoCV, MultiTaskLasso, MultiTaskLassoCV, MultiTaskElasticNetCV\n",
    "from sklearn.multioutput import MultiOutputRegressor \n",
    "from sklearn.cluster import KMeans\n",
    "from sklearn.manifold import TSNE\n",
    "from sklearn.metrics import mean_absolute_error, mean_squared_error, r2_score\n",
    "from sklearn.metrics.pairwise import cosine_similarity\n",
    "from sklearn.model_selection import GridSearchCV, train_test_split, cross_val_score\n",
    "from sklearn.neighbors import KNeighborsRegressor\n",
    "from sklearn.preprocessing import PolynomialFeatures, StandardScaler\n",
    "from sklearn.tree import DecisionTreeRegressor\n",
    "from xgboost import XGBRegressor \n",
    "\n",
    "# PyTorch and Lightning\n",
    "import torch\n",
    "import torch.nn as nn\n",
    "import torch.nn.functional as F\n",
    "import torch.optim.lr_scheduler as lr_scheduler \n",
    "import torch.autograd as autograd\n",
    "from torchvision.transforms import Compose\n",
    "from torch.utils.data import (ConcatDataset, DataLoader, Dataset, RandomSampler, \n",
    "                              Subset, TensorDataset)\n",
    "from torchsummary import summary\n",
    "\n",
    "# HDF5 and progress bar\n",
    "import h5py\n",
    "from tqdm import tqdm"
   ]
  },
  {
   "cell_type": "code",
   "execution_count": 2,
   "id": "082158bd-1f3a-4145-a42d-21cce51509e0",
   "metadata": {},
   "outputs": [
    {
     "name": "stdout",
     "output_type": "stream",
     "text": [
      "Number of CPU cores: 72\n"
     ]
    }
   ],
   "source": [
    "# Get the number of CPU cores available\n",
    "num_cores = os.cpu_count()\n",
    "print(f\"Number of CPU cores: {num_cores}\")"
   ]
  },
  {
   "cell_type": "code",
   "execution_count": 3,
   "id": "8dd1bbff-213a-4e02-a4ae-ba6d3fc18c23",
   "metadata": {},
   "outputs": [],
   "source": [
    "## Set parameters for plotting ## \n",
    "plt.rcParams.update({\n",
    "    'axes.facecolor': 'white',\n",
    "    'axes.grid': True,\n",
    "    'grid.color': 'gray',\n",
    "    'grid.alpha': 0.4,\n",
    "    'text.usetex': True,\n",
    "    'font.family': 'serif'\n",
    "})\n",
    "\n",
    "# Set color map\n",
    "cmap = sns.cubehelix_palette(8, start=2.8, rot=0.1, dark=0, light=0.95, as_cmap=True)\n",
    "\n",
    "# Set label names\n",
    "label_names = [\n",
    "    r'$T_{\\mathrm{eff}}$', r'$\\log(g)$', r'$C$', r'$N$', r'$O$', r'$Na$', r'$Mg$', r'$Al$', r'$Si$', \n",
    "    r'$S$', r'$K$', r'$Ca$', r'$Ti$', r'$V$', r'$Cr$', r'$Mn$', r'$Fe$', r'$Co$', r'$Ni$', r'$Ce$'\n",
    "]"
   ]
  },
  {
   "cell_type": "code",
   "execution_count": 4,
   "id": "c23d20de-f3af-4750-9a08-ac15e213c622",
   "metadata": {},
   "outputs": [],
   "source": [
    "## Set up seed for reproducibility ## \n",
    "def set_seed(seed):\n",
    "    torch.cuda.manual_seed(seed)\n",
    "    torch.backends.cudnn.deterministic = True\n",
    "    torch.backends.cudnn.benchmark = False\n",
    "    np.random.seed(seed) "
   ]
  },
  {
   "cell_type": "markdown",
   "id": "28eee9c6-de4e-472f-9871-1c5bcf91d66a",
   "metadata": {},
   "source": [
    "## **1. Process Data** <a class=\"anchor\" id=\"process-data\"></a>"
   ]
  },
  {
   "cell_type": "markdown",
   "id": "b7c223ee-64b0-4da4-8733-ae1c5ce8f42b",
   "metadata": {},
   "source": [
    "### **1.1. Load Data** <a class=\"anchor\" id=\"load-data\"></a>"
   ]
  },
  {
   "cell_type": "code",
   "execution_count": 5,
   "id": "a661d75d-5048-4982-9aba-e51aad132035",
   "metadata": {},
   "outputs": [],
   "source": [
    "## Define directories ## \n",
    "DATA_DIR = Path('/yngve_data/')\n",
    "LOCAL_DATA_DIR = Path('/geir_data/scr/sandford')"
   ]
  },
  {
   "cell_type": "code",
   "execution_count": 6,
   "id": "bf159758-e371-4681-b9f7-72de2a0d86f6",
   "metadata": {},
   "outputs": [],
   "source": [
    "## Load in JWST files ## \n",
    "jwst_spec_file = LOCAL_DATA_DIR / 'JWST_APOGEE.h5'\n",
    "jwst_wave = pd.read_hdf(jwst_spec_file, 'wavelength').iloc[0].values\n",
    "jwst_labels = pd.read_hdf(jwst_spec_file, 'labels')\n",
    "jwst_spectra = pd.read_hdf(jwst_spec_file, 'spectra')"
   ]
  },
  {
   "cell_type": "code",
   "execution_count": 7,
   "id": "bb69104a-6348-40a5-9b40-c79527d6e076",
   "metadata": {},
   "outputs": [],
   "source": [
    "## Load in APOGEE files ## \n",
    "apogee_spec_file = LOCAL_DATA_DIR / 'apogee_dr17.h5'\n",
    "apogee_dr17_dir = DATA_DIR / 'sdss/apogee/dr17/apogee/spectro/aspcap/dr17/synspec'\n",
    "\n",
    "_LOG10LAMBDA0 = 4.179\n",
    "_DLOG10LAMBDA = 6. * 10.**-6.\n",
    "_NLAMBDA = 8575\n",
    "apogee_wave = 10.**np.arange(\n",
    "    _LOG10LAMBDA0,\n",
    "    _LOG10LAMBDA0 +_NLAMBDA * _DLOG10LAMBDA,\n",
    "    _DLOG10LAMBDA\n",
    ")\n",
    "apogee_labels = pd.read_hdf(apogee_spec_file, 'allstar')"
   ]
  },
  {
   "cell_type": "markdown",
   "id": "7c3d56ee-f43b-4995-88bf-eda1ed5ed000",
   "metadata": {},
   "source": [
    "### **1.2. Prepare Data** <a class=\"anchor\" id=\"prep-data\"></a>"
   ]
  },
  {
   "cell_type": "code",
   "execution_count": 8,
   "id": "ae2bf72a-8ff0-4876-8b6d-02b8e412d1a7",
   "metadata": {},
   "outputs": [
    {
     "name": "stdout",
     "output_type": "stream",
     "text": [
      "RangeIndex(start=0, stop=19799, step=1)\n"
     ]
    }
   ],
   "source": [
    "## Convert JWST row names from stellar tags to indices ## \n",
    "jwst_spectra.reset_index(drop=True, inplace=True)\n",
    "jwst_labels.reset_index(drop=True, inplace=True) \n",
    "\n",
    "print(jwst_labels.index) # preview "
   ]
  },
  {
   "cell_type": "code",
   "execution_count": 9,
   "id": "d9da5e1b-492c-4e7a-8c37-6b1c8614a9fb",
   "metadata": {},
   "outputs": [
    {
     "name": "stdout",
     "output_type": "stream",
     "text": [
      "RangeIndex(start=0, stop=19799, step=1)\n",
      "Shapes of JWST and APOGEE labels before dropping duplicates: (19799, 20), (19799, 55)\n",
      "Shapes of JWST and APOGEE labels after dropping duplicates: (19001, 20), (19001, 55)\n"
     ]
    },
    {
     "data": {
      "text/plain": [
       "(200.00645446777344, 2943.144775390625)"
      ]
     },
     "execution_count": 9,
     "metadata": {},
     "output_type": "execute_result"
    }
   ],
   "source": [
    "## Drop missing data point in APOGEE data with no JWST pair ## \n",
    "apogee_labels.drop(index=11215, inplace=True)\n",
    "apogee_labels.reset_index(drop=True, inplace=True)\n",
    "\n",
    "print(apogee_labels.index)\n",
    "print(f\"Shapes of JWST and APOGEE labels before dropping duplicates: {jwst_labels.shape}, {apogee_labels.shape}\")\n",
    "\n",
    "## Drop all duplicates in APOGEE and JWST data ## \n",
    "duplicate_indices = apogee_labels[apogee_labels.duplicated(subset='APOGEE_ID', keep='first')].index\n",
    "apogee_labels.drop(index=duplicate_indices, inplace=True)\n",
    "jwst_spectra.drop(index=duplicate_indices, inplace=True) \n",
    "jwst_labels.drop(index=duplicate_indices, inplace=True)\n",
    "\n",
    "apogee_labels.reset_index(drop=True, inplace=True)\n",
    "jwst_spectra.reset_index(drop=True, inplace=True) \n",
    "jwst_labels.reset_index(drop=True, inplace=True)\n",
    "\n",
    "print(f\"Shapes of JWST and APOGEE labels after dropping duplicates: {jwst_labels.shape}, {apogee_labels.shape}\")\n",
    "\n",
    "## Calculte bounds for SNR ##\n",
    "apogee_labels[\"SNR\"].min(), apogee_labels[\"SNR\"].max()"
   ]
  },
  {
   "cell_type": "code",
   "execution_count": 10,
   "id": "1b6bee94-8149-4244-8bb2-62f9be3e160e",
   "metadata": {},
   "outputs": [
    {
     "name": "stdout",
     "output_type": "stream",
     "text": [
      "Shape of APOGEE and JWST spectra: (19001, 8575), (19001, 8192)\n"
     ]
    }
   ],
   "source": [
    "## Get APOGEE spectra data ## \n",
    "#start_time = time.time() \n",
    "#apogee_spectra = [] \n",
    "#for i in apogee_labels.index: \n",
    "   # telescope = apogee_labels.loc[i, 'TELESCOPE'].decode(\"utf-8\")\n",
    "   # field = apogee_labels.loc[i, 'FIELD'].decode(\"utf-8\")\n",
    "   # file = apogee_labels.loc[i, 'FILE'].decode(\"utf-8\")\n",
    "   # file = f\"aspcapStar-dr17-{apogee_labels.loc[i, 'APOGEE_ID'].decode('utf-8')}.fits\"\n",
    "   # path_to_spec = apogee_dr17_dir / telescope / field / file\n",
    "   # hdul = fits.open(path_to_spec)\n",
    "   # apogee_spec = hdul[1].data.astype(float)\n",
    "   # apogee_spectra.append(apogee_spec)\n",
    "   # hdul.close()\n",
    "#end_time = time.time()\n",
    "\n",
    "## Print elapsed time ##\n",
    "#print(f\"Elapsed time to download APOGEE spectra: {end_time - start_time:.2f} seconds\")\n",
    "\n",
    "## Save APOGEE spectra data as pickled file ## \n",
    "#apogee_spectra = pd.DataFrame(apogee_spectra)\n",
    "#apogee_spectra.columns = apogee_wave \n",
    "#apogee_spectra.to_pickle(os.path.join(\"DATA\", \"apogee_spectra.pkl\"))\n",
    "\n",
    "## Download APOGEE spectra data ## \n",
    "apogee_spectra = pd.read_pickle(os.path.join(\"DATA\", \"apogee_spectra.pkl\"))\n",
    "\n",
    "## Print out shapes of APOGEE and JWST spectra data ##\n",
    "print(f\"Shape of APOGEE and JWST spectra: {apogee_spectra.shape}, {jwst_spectra.shape}\")"
   ]
  },
  {
   "cell_type": "code",
   "execution_count": 11,
   "id": "c5f1f019-a510-4937-87b6-15da72f1d3c8",
   "metadata": {},
   "outputs": [],
   "source": [
    "## Make noisy JWST data using saved APOGEE SNR  ## \n",
    "noise_to_signal = np.array((apogee_labels[\"SNR\"])**(-1)) \n",
    "noise_to_signal_values = noise_to_signal.copy()\n",
    "noise_to_signal = noise_to_signal[:, np.newaxis] \n",
    "noise_to_signal = np.tile(noise_to_signal, (1, 8192))\n",
    "noisy_jwst_spectra = jwst_spectra + np.random.normal(0, 10*jwst_spectra.values*noise_to_signal) \n",
    "\n",
    "## Drop unneeded APOGEE labels ## \n",
    "apogee_labels = apogee_labels.rename(columns=lambda x: x.replace('_FE', '').capitalize())\n",
    "apogee_labels = apogee_labels.iloc[:, 9:]  # drop first nine columns\n",
    "apogee_labels = apogee_labels.loc[:, ~apogee_labels.columns.str.endswith('err')]\n",
    "apogee_labels = apogee_labels.rename(columns=lambda x: x.replace('Logg', 'logg'))\n",
    "apogee_labels = apogee_labels.drop(columns=[\"M_h\", \"Alpha_m\", \"Vmicro\", \"Vmacro\"])\n",
    "apogee_labels = apogee_labels.rename(columns=lambda x: x.replace('_h', ''))\n",
    "\n",
    "## Rescale Teff ## \n",
    "apogee_labels[\"Teff\"] = apogee_labels[\"Teff\"]/1000 \n",
    "jwst_labels[\"Teff\"] = jwst_labels[\"Teff\"]/1000 "
   ]
  },
  {
   "cell_type": "code",
   "execution_count": 12,
   "id": "efe34622-1d9f-44a4-bd15-b3f6458d15a4",
   "metadata": {},
   "outputs": [
    {
     "data": {
      "text/plain": [
       "True"
      ]
     },
     "execution_count": 12,
     "metadata": {},
     "output_type": "execute_result"
    }
   ],
   "source": [
    "## Convert APOGEE metallicities [X/Fe] to JWST metallicities [X/H] ## \n",
    "# Note: [X/Fe] + [Fe/H] = [X/H].\n",
    "Fe_H = apogee_labels[\"Fe\"]\n",
    "for i in range(2, len(apogee_labels.columns)):\n",
    "    if i != apogee_labels.columns.get_loc('Fe'): # Fe column is already of the form [Fe/H] \n",
    "        apogee_labels.iloc[:, i] += Fe_H\n",
    "\n",
    "## Check! ## \n",
    "all(jwst_labels == apogee_labels) == True"
   ]
  },
  {
   "cell_type": "markdown",
   "id": "34b0ab11-41f1-456c-bea6-12776afc86a6",
   "metadata": {},
   "source": [
    "### **1.3. Emulate Real Data** <a class=\"anchor\" id=\"prep-data\"></a>"
   ]
  },
  {
   "cell_type": "markdown",
   "id": "bb561add-1bf7-4586-88f3-c921581bfee1",
   "metadata": {},
   "source": [
    "#### **1.3.1. Extract Gaps KDE** <a class=\"anchor\" id=\"extract-gaps\"></a>"
   ]
  },
  {
   "cell_type": "code",
   "execution_count": 13,
   "id": "6d3cfc5d-27a7-400d-ada0-ca38a094f31f",
   "metadata": {},
   "outputs": [
    {
     "data": {
      "image/png": "[encoded data removed]",
      "text/plain": [
       "<Figure size 1000x800 with 1 Axes>"
      ]
     },
     "metadata": {},
     "output_type": "display_data"
    }
   ],
   "source": [
    "## Detect and Process Gaps in Spectral Data Image ##\n",
    "# Load the image\n",
    "image_path = os.path.join(\"FIGURES\", \"Sample_Real_Data.png\")\n",
    "image = cv2.imread(image_path)\n",
    "\n",
    "# Convert to grayscale\n",
    "gray_image = cv2.cvtColor(image, cv2.COLOR_BGR2GRAY)\n",
    "\n",
    "# Apply binary thresholding to distinguish the gaps\n",
    "_, binary_image = cv2.threshold(gray_image, 200, 255, cv2.THRESH_BINARY_INV)\n",
    "\n",
    "# Find contours, which correspond to the gaps\n",
    "contours, _ = cv2.findContours(binary_image, cv2.RETR_EXTERNAL, cv2.CHAIN_APPROX_SIMPLE)\n",
    "\n",
    "# Draw contours on the original image (for visualization)\n",
    "contour_image = image.copy()\n",
    "cv2.drawContours(contour_image, contours, -1, (0, 255, 0), 2)\n",
    "\n",
    "# Initialize a dictionary to store gaps grouped by y-coordinate\n",
    "blocks_by_y = defaultdict(list)\n",
    "\n",
    "# Measure the bounding box of each contour and group by y-coordinate\n",
    "for contour in contours:\n",
    "    x, y, w, h = cv2.boundingRect(contour)\n",
    "    if y != 0:  # Exclude contours at the top edge\n",
    "        blocks_by_y[y].append((x, w))\n",
    "\n",
    "# Initialize lists to store (x, w) of gaps\n",
    "x_gaps1 = []\n",
    "x_gaps2 = []\n",
    "w_gaps1 = []\n",
    "w_gaps2 = []\n",
    "\n",
    "# Process grouped gaps\n",
    "for y_coord, blocks in blocks_by_y.items():\n",
    "    if len(blocks) == 2:\n",
    "        # Sort blocks by x-coordinate\n",
    "        blocks.sort(key=lambda block: block[0])\n",
    "        \n",
    "        # Calculate x and width of first and second gaps\n",
    "        x_gap1 = blocks[0][0] + blocks[0][1]\n",
    "        w_gap1 = blocks[1][0] - x_gap1\n",
    "        x_gap2 = blocks[1][0] + blocks[1][1]\n",
    "        w_gap2 = 888 - x_gap2\n",
    "        \n",
    "        # Append results to the lists\n",
    "        x_gaps1.append(x_gap1)\n",
    "        x_gaps2.append(x_gap2)\n",
    "        w_gaps1.append(w_gap1)\n",
    "        w_gaps2.append(w_gap2)\n",
    "\n",
    "# Convert pixel values to wavelength scale (in micrometers)\n",
    "conversion_factor = (1.8 - 0.95) * 10**4 / 888\n",
    "x_gaps1 = [x * conversion_factor + 0.95 * 10**4 for x in x_gaps1]\n",
    "w_gaps1 = [w * conversion_factor for w in w_gaps1]\n",
    "w_gaps2 = [w * conversion_factor for w in w_gaps2]\n",
    "\n",
    "# Display the original image with contours\n",
    "plt.figure(figsize=(10, 8))\n",
    "plt.imshow(cv2.cvtColor(contour_image, cv2.COLOR_BGR2RGB))\n",
    "plt.title(\"Detected Gaps\")\n",
    "plt.xlabel(\"Pixel\")\n",
    "plt.show()"
   ]
  },
  {
   "cell_type": "code",
   "execution_count": 14,
   "id": "c03616dd-e935-4fb4-948f-f85c3965f356",
   "metadata": {},
   "outputs": [
    {
     "data": {
      "image/png": "[encoded data removed]",
      "text/plain": [
       "<Figure size 400x800 with 1 Axes>"
      ]
     },
     "metadata": {},
     "output_type": "display_data"
    }
   ],
   "source": [
    "## Extract KDE to Generate New Gaps ##\n",
    "set_seed(42)\n",
    "kde_x_gaps1 = stats.gaussian_kde(x_gaps1)\n",
    "kde_w_gaps1 = stats.gaussian_kde(w_gaps1)\n",
    "kde_w_gaps2 = stats.gaussian_kde(w_gaps2)\n",
    "\n",
    "# Resample from KDE ensuring non-negative values\n",
    "def resample_non_negative(kde, size):\n",
    "    set_seed(42)  # Ensure reproducibility\n",
    "    samples = kde.resample(size)\n",
    "    return np.maximum(samples, 0).squeeze()\n",
    "\n",
    "# Generate new gaps\n",
    "n = jwst_spectra.shape[0]  # Total number of samples\n",
    "new_x_gaps1 = resample_non_negative(kde_x_gaps1, n)\n",
    "new_w_gaps1 = resample_non_negative(kde_w_gaps1, n)\n",
    "new_w_gaps2 = resample_non_negative(kde_w_gaps2, n)\n",
    "\n",
    "# Visualize a sample of the gaps created\n",
    "plt.figure(figsize=(4, 8))\n",
    "for i in range(100):\n",
    "    x = np.linspace(0.97 * 10**4, 1.8 * 10**4, 100)\n",
    "    y = np.ones_like(x) + i\n",
    "    plt.plot(x, y, 'k-', linewidth=2)\n",
    "\n",
    "    plt.plot([new_x_gaps1[i], new_x_gaps1[i] + new_w_gaps1[i]], [y[0], y[0]], 'w-', linewidth=3)\n",
    "    plt.plot([1.8 * 10**4 - new_w_gaps2[i], 1.8 * 10**4], [y[0], y[0]], 'w-', linewidth=3)\n",
    "\n",
    "plt.xlim([0.95 * 10**4, 1.8 * 10**4])\n",
    "plt.tick_params(left=False)\n",
    "plt.yticks([])\n",
    "plt.xlabel(\"Wavelength\")\n",
    "plt.title(\"100 Samples of Generated Gaps\")\n",
    "plt.show()"
   ]
  },
  {
   "cell_type": "code",
   "execution_count": 15,
   "id": "b2977597-754e-437e-ba76-5404e17caeaa",
   "metadata": {},
   "outputs": [],
   "source": [
    "def add_noise_to_spectra(jwst_spectra, snr_min=30, snr_max=300):\n",
    "    \"\"\"\n",
    "    Add noise to all spectra in the DataFrame using a randomly chosen \n",
    "    SNR from a specified range.\n",
    "\n",
    "    Parameters:\n",
    "    - jwst_spectra (DataFrame): The DataFrame containing spectra data.\n",
    "    - snr_min (int): Minimum SNR value.\n",
    "    - snr_max (int): Maximum SNR value.\n",
    "\n",
    "    Returns:\n",
    "    - DataFrame: Noisy jwst_spectra with added noise.\n",
    "    \"\"\"\n",
    "    # Copy the input DataFrame to avoid modifying the original\n",
    "    noisy_spectra = jwst_spectra.copy()\n",
    "\n",
    "    # Iterate through all rows in the DataFrame\n",
    "    for idx in noisy_spectra.index:\n",
    "        # Extract the spectrum for the current index\n",
    "        spectrum = noisy_spectra.loc[idx].values\n",
    "\n",
    "        # Sample SNR from a uniform distribution\n",
    "        snr = np.random.uniform(snr_min, snr_max)\n",
    "\n",
    "        # Calculate the noise standard deviation based on the SNR\n",
    "        noise_std = 1 / snr ** 0.5\n",
    "\n",
    "        # Add Gaussian noise to the spectrum\n",
    "        noisy_spectra.loc[idx] = spectrum + np.random.normal(0, noise_std, size=spectrum.shape)\n",
    "\n",
    "    return noisy_spectra\n",
    "\n",
    "mock_jwst_spectra = add_noise_to_spectra(jwst_spectra)"
   ]
  },
  {
   "cell_type": "code",
   "execution_count": 16,
   "id": "92b495bd-9de6-4cd7-bfb7-409c1a98a2b0",
   "metadata": {},
   "outputs": [],
   "source": [
    "def blank_out_ranges(jwst_spectra, x_gaps1, w_gaps1, w_gaps2):\n",
    "    \"\"\"\n",
    "    Blanks out specified ranges in the JWST spectra by setting values to 1 within the defined gaps.\n",
    "\n",
    "    Parameters:\n",
    "    - jwst_spectra (pd.DataFrame): A DataFrame containing JWST spectra, with rows as samples and columns as wavelengths.\n",
    "    - x_gaps1 (list): Starting positions for the gaps in the spectra.\n",
    "    - w_gaps1 (list): Widths of the gaps starting from x_gaps1.\n",
    "    - w_gaps2 (list): Widths of the gaps at the end of the spectra.\n",
    "    \n",
    "    Returns:\n",
    "    - pd.DataFrame: A modified copy of the JWST spectra with specified ranges blanked out (set to 1).\n",
    "    \"\"\"\n",
    "    # Create a copy of the input DataFrame to avoid modifying the original\n",
    "    modified_spectra = jwst_spectra.copy()\n",
    "\n",
    "    # Convert column names to numeric values for comparison\n",
    "    wavelengths = jwst_spectra.columns.astype(float)\n",
    "\n",
    "    # Loop through each spectrum and apply the blanking\n",
    "    for i, (start1, width1, width2) in enumerate(zip(x_gaps1, w_gaps1, w_gaps2)):\n",
    "        # Define gap positions\n",
    "        end1 = start1 + width1\n",
    "        start2 = wavelengths.max() - width2\n",
    "        end2 = wavelengths.max()\n",
    "\n",
    "        # Create boolean masks for the gaps\n",
    "        mask1 = (wavelengths >= start1) & (wavelengths <= end1)\n",
    "        mask2 = (wavelengths >= start2) & (wavelengths <= end2)\n",
    "        combined_mask = mask1 | mask2\n",
    "\n",
    "        # Apply the masks to the current spectrum\n",
    "        modified_spectra.iloc[i, combined_mask] = 1\n",
    "\n",
    "    return modified_spectra"
   ]
  },
  {
   "cell_type": "code",
   "execution_count": 17,
   "id": "7d0c6d44-215f-4000-88c0-8c1baaa43be0",
   "metadata": {},
   "outputs": [],
   "source": [
    "mock_jwst_spectra = blank_out_ranges(mock_jwst_spectra, new_x_gaps1, new_w_gaps1, new_w_gaps2)"
   ]
  },
  {
   "cell_type": "markdown",
   "id": "be437431-31a1-4a14-9b22-d0d18bce9cd6",
   "metadata": {},
   "source": [
    "### **1.4. Partition Data** <a class=\"anchor\" id=\"partition-data\"></a>"
   ]
  },
  {
   "cell_type": "code",
   "execution_count": 18,
   "id": "d0c02044-a6cd-450a-9617-e08a345961b7",
   "metadata": {},
   "outputs": [
    {
     "name": "stdout",
     "output_type": "stream",
     "text": [
      "True\n"
     ]
    }
   ],
   "source": [
    "## Standardise data ## \n",
    "scaler = StandardScaler()\n",
    "jwst_labels_scaled = pd.DataFrame(scaler.fit_transform(jwst_labels), columns = jwst_labels.columns)\n",
    "apogee_labels_scaled = pd.DataFrame(scaler.fit_transform(apogee_labels), columns = apogee_labels.columns)\n",
    "\n",
    "## Check! ##\n",
    "print(all(abs(jwst_labels_scaled - apogee_labels_scaled) < 1e-6))\n",
    "\n",
    "## Define denormalising function to undo StandardScaler ## \n",
    "def denormalize(scaler, labels_scaled):\n",
    "    \"\"\"\n",
    "    Denormalises data scaled with StandardScaler. \n",
    "\n",
    "    Parameters:\n",
    "    - scaler (StandardScaler): used to scale the data.\n",
    "    - labels_scaled (pd.DataFrame): scaled data to be denormalised.\n",
    "\n",
    "    Returns:\n",
    "    - pd.DataFrame: data transformed back to its original scale. \n",
    "    \"\"\"\n",
    "    mean = scaler.mean_ \n",
    "    std = scaler.scale_\n",
    "    return (labels_scaled * std) + mean"
   ]
  },
  {
   "cell_type": "code",
   "execution_count": 19,
   "id": "41a39675-6afc-4595-8d4c-9c7072407e91",
   "metadata": {},
   "outputs": [
    {
     "name": "stdout",
     "output_type": "stream",
     "text": [
      "Shapes of JWST inputs and outputs: (19001, 8192), (19001, 20)\n",
      "Shapes of APOGEE inputs and outputs: (19001, 8575), (19001, 20)\n"
     ]
    }
   ],
   "source": [
    "## Define inputs and outputs ##\n",
    "X_j = mock_jwst_spectra.values\n",
    "X_a = apogee_spectra.values\n",
    "\n",
    "y_j = jwst_labels_scaled.values\n",
    "y_a = apogee_labels_scaled.values\n",
    "\n",
    "## Print shapes ##\n",
    "print(f\"Shapes of JWST inputs and outputs: {X_j.shape}, {y_j.shape}\")\n",
    "print(f\"Shapes of APOGEE inputs and outputs: {X_a.shape}, {y_a.shape}\")"
   ]
  },
  {
   "cell_type": "code",
   "execution_count": 20,
   "id": "3d7ae763-76ad-4f24-bdbb-627db9d7d2c0",
   "metadata": {},
   "outputs": [
    {
     "name": "stdout",
     "output_type": "stream",
     "text": [
      "Shapes of JWST train, val, test sets: (11875, 8192), (2375, 8192), (4751, 8192)\n",
      "Shapes of APOGEE train, val, test sets: (11875, 8575), (2375, 8575), (4751, 8575)\n"
     ]
    }
   ],
   "source": [
    "## Create function to partition data into train, val and test sets ## \n",
    "def train_val_test_split(X, y): \n",
    "    \"\"\"\n",
    "    Partitions data into training, validation, and test sets with a 5:1:2 ratio. \n",
    "    This function ensures reproducibility by setting a random seed.\n",
    "\n",
    "    Parameters:\n",
    "    - X (pd.DataFrame): Feature matrix.\n",
    "    - y (pd.DataFrame): Target matrix.\n",
    "\n",
    "    Returns:\n",
    "    - X_train (pd.DataFrame): Training feature matrix.\n",
    "    - X_val (pd.DataFrame): Validation feature matrix.\n",
    "    - X_test (pd.DataFrame): Test feature matrix.\n",
    "    - y_train (pd.DataFrame): Training target matrix.\n",
    "    - y_val (pd.DataFrame): Validation target matrix.\n",
    "    - y_test (pd.DataFrame): Test target matrix.\n",
    "    \"\"\"\n",
    "    # First, split data into 75% train and 25% test\n",
    "    X_train, X_test, y_train, y_test = train_test_split(X, y, test_size = 1/4, random_state = 42) \n",
    "    # Next, split train into 5/6 train and 1/6 validation \n",
    "    X_train, X_val, y_train, y_val = train_test_split(X_train, y_train, test_size = 1/6, random_state = 42) \n",
    "    return X_train, X_val, X_test, y_train, y_val, y_test \n",
    "\n",
    "## Partition data ## \n",
    "X_j_train, X_j_val, X_j_test, y_j_train, y_j_val, y_j_test = train_val_test_split(X_j, y_j) \n",
    "X_a_train, X_a_val, X_a_test, y_a_train, y_a_val, y_a_test = train_val_test_split(X_a, y_a) \n",
    "\n",
    "print(f\"Shapes of JWST train, val, test sets: {X_j_train.shape}, {X_j_val.shape}, {X_j_test.shape}\")\n",
    "print(f\"Shapes of APOGEE train, val, test sets: {X_a_train.shape}, {X_a_val.shape}, {X_a_test.shape}\")"
   ]
  },
  {
   "cell_type": "markdown",
   "id": "ea5c44d2-c4e1-4a1e-8a3f-547ef0c901b0",
   "metadata": {},
   "source": [
    "## **2. Build Model** <a class=\"anchor\" id=\"build-model\"></a>"
   ]
  },
  {
   "cell_type": "markdown",
   "id": "eefe2652-b31c-4780-855b-1754d52e260f",
   "metadata": {},
   "source": [
    "### **2.1. Set up** <a class=\"anchor\" id=\"set-up-model\"></a>"
   ]
  },
  {
   "cell_type": "code",
   "execution_count": 21,
   "id": "8130f107-8e88-4968-8988-15e6e0748f8d",
   "metadata": {},
   "outputs": [],
   "source": [
    "## Define helper function ## \n",
    "def compute_out_size(in_size, mod):\n",
    "    \"\"\"\n",
    "    Compute the output size of a PyTorch module `mod` given an input with size `in_size`.\n",
    "\n",
    "    Args:\n",
    "        in_size (tuple): The size of the input tensor (excluding batch size).\n",
    "        mod (torch.nn.Module): The PyTorch module for which to compute the output size.\n",
    "\n",
    "    Returns:\n",
    "        tuple: The size of the output tensor (excluding batch size).\n",
    "    \"\"\"\n",
    "    \n",
    "    f = mod.forward(autograd.Variable(torch.Tensor(1, *in_size)))\n",
    "    return f.size()[1:]"
   ]
  },
  {
   "cell_type": "code",
   "execution_count": 22,
   "id": "e77c1e9c-50e3-4c1a-b026-9c29249b6da5",
   "metadata": {},
   "outputs": [],
   "source": [
    "## Instantiate neural network parameters ## \n",
    "num_filters = [4, 16] # Number of filters used in convolutional layers\n",
    "filter_length = 8 # Length of the filters in convolutional layers\n",
    "pool_length = 4 # Length of maxpooling window \n",
    "num_hidden = [256, 128] # Number of nodes in each of hidden fully connected layers\n",
    "\n",
    "num_jwst_labels = y_j_train.shape[1] # Number of JWST labels  \n",
    "num_apogee_labels = y_a_train.shape[1] # Number of APOGEE labels \n",
    "\n",
    "num_jwst_fluxes = X_j_train.shape[1] # Number of JWST fluxes\n",
    "num_apogee_fluxes = X_a_train.shape[1] # Number of APOGEE fluxes"
   ]
  },
  {
   "cell_type": "markdown",
   "id": "51e09f25-44fc-43d8-a44f-e35c64b77998",
   "metadata": {},
   "source": [
    "### **2.2. Create CNN** <a class=\"anchor\" id=\"create-CNN\"></a>"
   ]
  },
  {
   "cell_type": "code",
   "execution_count": 23,
   "id": "9d2e0c07-ae10-45b5-9737-df87b6420929",
   "metadata": {},
   "outputs": [],
   "source": [
    "## Define CNN ## \n",
    "class StarNet(nn.Module):\n",
    "    def __init__(self, num_fluxes: int, num_filters: list, filter_length: int, pool_length: int, num_hidden: list, num_labels: int):\n",
    "        super(StarNet, self).__init__()\n",
    "        # Define convolutional layers \n",
    "        self.conv1 = nn.Conv1d(in_channels = 1, out_channels = num_filters[0], kernel_size = filter_length)\n",
    "        self.conv2 = nn.Conv1d(in_channels = num_filters[0], out_channels = num_filters[1], kernel_size = filter_length)\n",
    "\n",
    "        # Define pooling layer \n",
    "        self.pool = nn.MaxPool1d(pool_length, pool_length)\n",
    "\n",
    "        # Compute shape after pooling\n",
    "        pool_output_shape = compute_out_size((1,num_fluxes), nn.Sequential(self.conv1, self.conv2, self.pool))\n",
    "        \n",
    "        # Define fully connected layers\n",
    "        self.fc1 = nn.Linear(in_features = pool_output_shape[0]*pool_output_shape[1], out_features = num_hidden[0])\n",
    "        self.fc2 = nn.Linear(in_features = num_hidden[0], out_features = num_hidden[1])\n",
    "        self.output = nn.Linear(in_features = num_hidden[1], out_features = num_labels)\n",
    "    \n",
    "    def forward(self, x):\n",
    "        x = F.elu(self.conv1(x))\n",
    "        x = self.pool(F.elu(self.conv2(x)))\n",
    "        x = torch.flatten(x, start_dim = 1)\n",
    "        x = F.elu(self.fc1(x))\n",
    "        x = F.elu(self.fc2(x))\n",
    "        x = self.output(x)\n",
    "        return x"
   ]
  },
  {
   "cell_type": "code",
   "execution_count": 24,
   "id": "b7ba50a9-2d2a-4b78-ad9b-ef1c6e05c475",
   "metadata": {},
   "outputs": [
    {
     "name": "stdout",
     "output_type": "stream",
     "text": [
      "Device is cuda\n"
     ]
    },
    {
     "data": {
      "text/plain": [
       "StarNet(\n",
       "  (conv1): Conv1d(1, 4, kernel_size=(8,), stride=(1,))\n",
       "  (conv2): Conv1d(4, 16, kernel_size=(8,), stride=(1,))\n",
       "  (pool): MaxPool1d(kernel_size=4, stride=4, padding=0, dilation=1, ceil_mode=False)\n",
       "  (fc1): Linear(in_features=32704, out_features=256, bias=True)\n",
       "  (fc2): Linear(in_features=256, out_features=128, bias=True)\n",
       "  (output): Linear(in_features=128, out_features=20, bias=True)\n",
       ")"
      ]
     },
     "execution_count": 24,
     "metadata": {},
     "output_type": "execute_result"
    }
   ],
   "source": [
    "## Instantiate CNN ## \n",
    "torch.manual_seed(42) # for reproducibility\n",
    "APOGEEModel = StarNet(num_apogee_fluxes, num_filters, filter_length, pool_length, num_hidden, num_apogee_labels)\n",
    "JWSTModel = StarNet(num_jwst_fluxes, num_filters, filter_length, pool_length, num_hidden, num_jwst_labels)\n",
    "\n",
    "## Move models to GPU ## \n",
    "device = torch.device(\"cuda\" if torch.cuda.is_available() else \"cpu\") \n",
    "print(f\"Device is {device}\")\n",
    "APOGEEModel.to(device); JWSTModel.to(device)"
   ]
  },
  {
   "cell_type": "code",
   "execution_count": 25,
   "id": "8a451558-298a-4c32-bcb2-f1e2a1a3dd08",
   "metadata": {},
   "outputs": [
    {
     "name": "stdout",
     "output_type": "stream",
     "text": [
      "----------------------------------------------------------------\n",
      "        Layer (type)               Output Shape         Param #\n",
      "================================================================\n",
      "            Conv1d-1              [-1, 4, 8568]              36\n",
      "            Conv1d-2             [-1, 16, 8561]             528\n",
      "         MaxPool1d-3             [-1, 16, 2140]               0\n",
      "            Linear-4                  [-1, 256]       8,765,696\n",
      "            Linear-5                  [-1, 128]          32,896\n",
      "            Linear-6                   [-1, 20]           2,580\n",
      "================================================================\n",
      "Total params: 8,801,736\n",
      "Trainable params: 8,801,736\n",
      "Non-trainable params: 0\n",
      "----------------------------------------------------------------\n",
      "Input size (MB): 0.03\n",
      "Forward/backward pass size (MB): 1.57\n",
      "Params size (MB): 33.58\n",
      "Estimated Total Size (MB): 35.18\n",
      "----------------------------------------------------------------\n"
     ]
    }
   ],
   "source": [
    "## Summarise CNN ## \n",
    "summary(APOGEEModel, (1, num_apogee_fluxes)) # JWST model is similar "
   ]
  },
  {
   "cell_type": "markdown",
   "id": "e5f97388-35ec-498a-ab7c-1c3c52922b11",
   "metadata": {},
   "source": [
    "## **3. Train Model** <a class=\"anchor\" id=\"train-model\"></a>"
   ]
  },
  {
   "cell_type": "markdown",
   "id": "26485c16-f627-43d9-b875-3daee5415ef3",
   "metadata": {},
   "source": [
    "### **3.1. Set up** <a class=\"anchor\" id=\"set-up-train\"></a>"
   ]
  },
  {
   "cell_type": "code",
   "execution_count": 26,
   "id": "bf50ec9a-d5c5-4494-8c60-1762a0311722",
   "metadata": {},
   "outputs": [],
   "source": [
    "## Instantiate training parameters ## \n",
    "batch_size = 64 # Number of rows processed in one iteration of training (before updating its parameters) \n",
    "batch_size_val = 300 \n",
    "batch_size_test = 500 \n",
    "num_epochs = 15 # Number of epochs- number of complete passes through entire training dataset.  \n",
    "learning_rate = 0.001 # Initial learning rate parameter for optimisation algorithm \n",
    "\n",
    "## Construct optimiser ## \n",
    "APOGEEOptimizer = torch.optim.Adam(APOGEEModel.parameters(), learning_rate, weight_decay = 0) \n",
    "JWSTOptimizer = torch.optim.Adam(JWSTModel.parameters(), learning_rate, weight_decay = 0)\n",
    "\n",
    "## Implement learning rate scheduler ## \n",
    "APOGEEScheduler = lr_scheduler.StepLR(APOGEEOptimizer, step_size = 5, gamma = 0.1)\n",
    "JWSTScheduler = lr_scheduler.StepLR(JWSTOptimizer, step_size = 5, gamma = 0.1) "
   ]
  },
  {
   "cell_type": "code",
   "execution_count": 27,
   "id": "b295d6dd-9799-483e-82a2-a4d5e3919653",
   "metadata": {},
   "outputs": [],
   "source": [
    "## Define function to create dataloaders ## \n",
    "def create_dataloader(X, y, batch_size, shuffle=True):\n",
    "    \"\"\"\n",
    "    Creates a PyTorch DataLoader from input features and labels.\n",
    "    \n",
    "    Args:\n",
    "    - X (array-like): The input features. \n",
    "    - y (array-like): The corresponding labels or target values. \n",
    "    - batch_size (int): The number of samples per batch to load.\n",
    "    - shuffle (bool, optional): Whether to shuffle the data at every epoch. Default is True.\n",
    "\n",
    "    Returns:\n",
    "    - DataLoader: A DataLoader object that can be used to iterate over the dataset in batches.\n",
    "    \"\"\" \n",
    "    tensor_data = TensorDataset(torch.Tensor(X), torch.Tensor(y))\n",
    "    return DataLoader(tensor_data, batch_size=batch_size, shuffle=shuffle)\n",
    "\n",
    "random.seed(42) # for reproducibility \n",
    "\n",
    "## Convert train, val, test datasets to dataloaders ## \n",
    "train_j_dataloader = create_dataloader(X_j_train, y_j_train, batch_size)\n",
    "train_a_dataloader = create_dataloader(X_a_train, y_a_train, batch_size)\n",
    "\n",
    "val_j_dataloader = create_dataloader(X_j_val, y_j_val, batch_size_val, shuffle=False)\n",
    "val_a_dataloader = create_dataloader(X_a_val, y_a_val, batch_size_val, shuffle=False)\n",
    "\n",
    "test_j_dataloader = create_dataloader(X_j_test, y_j_test, batch_size_test, shuffle=False)\n",
    "test_a_dataloader = create_dataloader(X_a_test, y_a_test, batch_size_test, shuffle=False)"
   ]
  },
  {
   "cell_type": "markdown",
   "id": "9ddf7aaf-7265-464a-85f9-b9e7cdce100b",
   "metadata": {},
   "source": [
    "### **3.2. Run training** <a class=\"anchor\" id=\"run-train\"></a>"
   ]
  },
  {
   "cell_type": "code",
   "execution_count": 28,
   "id": "8a3c0c23-de61-41e4-85a2-b755809b6649",
   "metadata": {},
   "outputs": [
    {
     "name": "stdout",
     "output_type": "stream",
     "text": [
      "Begin training JWST\n",
      "[Epoch 1] Train Loss: 1.0357, Val Loss: 0.8573, LR: 0.001000\n",
      "[Epoch 2] Train Loss: 0.4856, Val Loss: 0.3073, LR: 0.001000\n",
      "[Epoch 3] Train Loss: 0.2716, Val Loss: 0.2627, LR: 0.001000\n",
      "[Epoch 4] Train Loss: 0.1843, Val Loss: 0.2545, LR: 0.001000\n",
      "[Epoch 5] Train Loss: 0.1314, Val Loss: 0.1943, LR: 0.001000\n",
      "[Epoch 6] Train Loss: 0.0873, Val Loss: 0.1883, LR: 0.000100\n",
      "[Epoch 7] Train Loss: 0.0820, Val Loss: 0.1889, LR: 0.000100\n",
      "[Epoch 8] Train Loss: 0.0789, Val Loss: 0.1859, LR: 0.000100\n",
      "[Epoch 9] Train Loss: 0.0754, Val Loss: 0.1887, LR: 0.000100\n",
      "[Epoch 10] Train Loss: 0.0724, Val Loss: 0.1854, LR: 0.000100\n",
      "[Epoch 11] Train Loss: 0.0681, Val Loss: 0.1849, LR: 0.000010\n",
      "[Epoch 12] Train Loss: 0.0676, Val Loss: 0.1849, LR: 0.000010\n",
      "[Epoch 13] Train Loss: 0.0672, Val Loss: 0.1849, LR: 0.000010\n",
      "[Epoch 14] Train Loss: 0.0669, Val Loss: 0.1849, LR: 0.000010\n",
      "[Epoch 15] Train Loss: 0.0665, Val Loss: 0.1846, LR: 0.000010\n",
      "Finished Training \n",
      "\n",
      "Begin training APOGEE\n",
      "[Epoch 1] Train Loss: 0.9690, Val Loss: 0.2582, LR: 0.001000\n",
      "[Epoch 2] Train Loss: 0.1985, Val Loss: 0.1300, LR: 0.001000\n",
      "[Epoch 3] Train Loss: 0.1204, Val Loss: 0.1247, LR: 0.001000\n",
      "[Epoch 4] Train Loss: 0.0959, Val Loss: 0.0866, LR: 0.001000\n",
      "[Epoch 5] Train Loss: 0.0821, Val Loss: 0.0726, LR: 0.001000\n",
      "[Epoch 6] Train Loss: 0.0640, Val Loss: 0.0689, LR: 0.000100\n",
      "[Epoch 7] Train Loss: 0.0621, Val Loss: 0.0671, LR: 0.000100\n",
      "[Epoch 8] Train Loss: 0.0604, Val Loss: 0.0658, LR: 0.000100\n",
      "[Epoch 9] Train Loss: 0.0590, Val Loss: 0.0646, LR: 0.000100\n",
      "[Epoch 10] Train Loss: 0.0579, Val Loss: 0.0655, LR: 0.000100\n",
      "[Epoch 11] Train Loss: 0.0560, Val Loss: 0.0631, LR: 0.000010\n",
      "[Epoch 12] Train Loss: 0.0558, Val Loss: 0.0630, LR: 0.000010\n",
      "[Epoch 13] Train Loss: 0.0556, Val Loss: 0.0628, LR: 0.000010\n",
      "[Epoch 14] Train Loss: 0.0554, Val Loss: 0.0627, LR: 0.000010\n",
      "[Epoch 15] Train Loss: 0.0553, Val Loss: 0.0627, LR: 0.000010\n",
      "Finished Training \n",
      "\n"
     ]
    }
   ],
   "source": [
    "## Define function to execute training ## \n",
    "def train_model(train_dataloader, val_dataloader, model, optimizer, scheduler, model_name):\n",
    "    \"\"\"\n",
    "    Trains a PyTorch model using a specified optimiser, learning rate scheduler and dataloaders for a given number of epochs, using MSE Loss.\n",
    "    Evaluates the model on a validation set after each epoch, using MSE Loss. \n",
    "\n",
    "    Parameters:\n",
    "    - train_dataloader (DataLoader): DataLoader for training data.\n",
    "    - val_dataloader (DataLoader): DataLoader for validation data.\n",
    "    - model (torch.nn.Module): PyTorch model to be trained. \n",
    "    - scheduler (torch.optim.lr_scheduler._LRScheduler): learning rate scheduler to adjust learning rate. \n",
    "    - optimizer (torch.optim.Optimizer): optimiser used to update model parameters.\n",
    "    - model_name (str): 'APOGEE' or 'JWST'. \n",
    "\n",
    "    Returns: \n",
    "    - train_losses (list): A list of average training losses for each epoch.\n",
    "    - val_losses (list): A list of average validation losses for each epoch. \n",
    "    \"\"\"\n",
    "    train_losses = []\n",
    "    val_losses = []\n",
    "\n",
    "    print(f\"Begin training {model_name}\") \n",
    "\n",
    "    for epoch in range(num_epochs):\n",
    "        running_train_loss = 0.0\n",
    "        \n",
    "        # Training Loop\n",
    "        for i, (X_batch, y_batch) in enumerate(train_dataloader):\n",
    "            # Zero the parameter gradients\n",
    "            optimizer.zero_grad()\n",
    "\n",
    "            # Forward pass\n",
    "            y_pred = model(X_batch.unsqueeze(1).to(device))\n",
    "            loss = nn.MSELoss()(y_pred.to(device), y_batch.to(device))\n",
    "\n",
    "            # Backward pass and optimize\n",
    "            loss.backward()\n",
    "            optimizer.step()\n",
    "\n",
    "            # Accumulate loss\n",
    "            running_train_loss += loss.item()\n",
    "\n",
    "            # Print statistics every 'print_iters' iterations\n",
    "            if (i + 1) % print_iters == 0:\n",
    "                print(f'[Epoch {epoch + 1}, {(i + 1) / len(train_dataloader) * 100:.0f}%] '\n",
    "                      f'Train Loss: {running_train_loss / (i + 1):.4f}', end=\"\\r\")\n",
    "        \n",
    "        train_loss = running_train_loss / len(train_dataloader)\n",
    "\n",
    "        # Validation Loop\n",
    "        running_val_loss = 0.0\n",
    "        with torch.no_grad():\n",
    "            for X_batch, y_batch in val_dataloader:\n",
    "                y_pred = model(X_batch.unsqueeze(1).to(device))\n",
    "                loss = nn.MSELoss()(y_pred.to(device), y_batch.to(device))\n",
    "                running_val_loss += loss.item()\n",
    "        \n",
    "        val_loss = running_val_loss / len(val_dataloader)\n",
    "        \n",
    "        # Print epoch summary\n",
    "        print(f'[Epoch {epoch + 1}] Train Loss: {train_loss:.4f}, Val Loss: {val_loss:.4f}, '\n",
    "              f'LR: {scheduler.get_last_lr()[0]:.6f}')\n",
    "        \n",
    "        # Record losses\n",
    "        train_losses.append(train_loss)\n",
    "        val_losses.append(val_loss)\n",
    "\n",
    "        # Step the scheduler\n",
    "        scheduler.step()\n",
    "    \n",
    "    print(\"Finished Training \\n\")\n",
    "    return train_losses, val_losses\n",
    "\n",
    "print_iters = 200\n",
    "train_j_losses, val_j_losses = train_model(train_j_dataloader, val_j_dataloader, JWSTModel, JWSTOptimizer, JWSTScheduler, \"JWST\")\n",
    "train_a_losses, val_a_losses = train_model(train_a_dataloader, val_a_dataloader, APOGEEModel, APOGEEOptimizer, APOGEEScheduler, \"APOGEE\")"
   ]
  },
  {
   "cell_type": "markdown",
   "id": "42293e4f-4f0b-4b18-83e1-db5410df6440",
   "metadata": {},
   "source": [
    "### **3.3. Plot losses & save models** <a class=\"anchor\" id=\"plot-save\"></a>"
   ]
  },
  {
   "cell_type": "code",
   "execution_count": 29,
   "id": "abe71e0a-78f1-4c56-8ee4-fe96cf2679e4",
   "metadata": {},
   "outputs": [
    {
     "data": {
      "image/png": "[encoded data removed]",
      "text/plain": [
       "<Figure size 1000x600 with 1 Axes>"
      ]
     },
     "metadata": {},
     "output_type": "display_data"
    },
    {
     "data": {
      "image/png": "[encoded data removed]",
      "text/plain": [
       "<Figure size 1000x600 with 1 Axes>"
      ]
     },
     "metadata": {},
     "output_type": "display_data"
    }
   ],
   "source": [
    "## Plot losses ## \n",
    "def plot_losses(train_losses, val_losses, model_name):\n",
    "    \"\"\"\n",
    "    Plots training and validation losses over epochs. Save figure to \"FIGURES\" directory. \n",
    "\n",
    "    Args:\n",
    "    - train_losses (list): contains training losses for each epoch.\n",
    "    - val_losses (list): contains validation losses for each epoch.\n",
    "    - model_name (str): 'APOGEE' or 'JWST'. \n",
    "    \"\"\"\n",
    "    plt.figure(figsize=(10, 6))  \n",
    "    plt.plot(range(1, num_epochs + 1), train_losses, label = \"Train Loss\", linewidth=2)\n",
    "    plt.plot(range(1, num_epochs + 1), val_losses, label = \"Validation Loss\", linewidth=2)\n",
    "    plt.xlabel(\"Epoch\", fontsize=16)\n",
    "    plt.ylabel(f\"{model_name} Loss\", fontsize=16)\n",
    "    plt.legend(fontsize=14)\n",
    "    plt.xticks(fontsize=14)\n",
    "    plt.yticks(fontsize=14) \n",
    "    \n",
    "    # Save the figure\n",
    "    plt.savefig(os.path.join(\"FIGURES\", f\"StarNet_{model_name}_loss_plot.png\"))\n",
    "    plt.show()\n",
    "    plt.close()\n",
    "\n",
    "plot_losses(train_j_losses, val_j_losses, \"JWST\")\n",
    "plot_losses(train_a_losses, val_a_losses, \"APOGEE\")"
   ]
  },
  {
   "cell_type": "code",
   "execution_count": 30,
   "id": "df4023b5-b524-4ad0-89aa-bf51c75c16af",
   "metadata": {},
   "outputs": [
    {
     "name": "stdout",
     "output_type": "stream",
     "text": [
      "Done.\n",
      "Done.\n"
     ]
    }
   ],
   "source": [
    "## Save models ## \n",
    "def save_model(model, optimizer, model_name):\n",
    "    \"\"\"\n",
    "    Save model and optimizer states to a specified file path.\n",
    "\n",
    "    Parameters:\n",
    "    - model (torch.nn.Module): PyTorch model to be saved.\n",
    "    - optimizer (torch.optim.Optimizer): PyTorch optimizer to be saved.\n",
    "    - model_name (str): 'APOGEE' or 'JWST'. \n",
    "    \"\"\"\n",
    "    torch.save({'optimizer' : optimizer.state_dict(),\n",
    "                'model' : model.state_dict()}, \n",
    "               os.path.join(\"MODELS\", f\"StarNet_{model_name}.pth.tar\"))\n",
    "    print(f\"Done.\")\n",
    "    \n",
    "save_model(JWSTModel, JWSTOptimizer, \"JWST\") \n",
    "save_model(APOGEEModel, APOGEEOptimizer, \"APOGEE\") "
   ]
  },
  {
   "cell_type": "markdown",
   "id": "8ed5b4fa-33ba-4c66-bd3a-4f7e03f110d7",
   "metadata": {},
   "source": [
    "## **4. Test Model** <a class=\"anchor\" id=\"test-model\"></a>"
   ]
  },
  {
   "cell_type": "markdown",
   "id": "22c162d9-fa9e-4763-bec5-66a65382f20d",
   "metadata": {},
   "source": [
    "### **4.1. Get test predictions** <a class=\"anchor\" id=\"get-test-preds\"></a>"
   ]
  },
  {
   "cell_type": "code",
   "execution_count": 33,
   "id": "aadcffac-259a-443c-9989-5a35b5b69913",
   "metadata": {},
   "outputs": [
    {
     "name": "stdout",
     "output_type": "stream",
     "text": [
      "Shape of JWST test predictions is (4751, 20)\n",
      "Shape of APOGEE test predictions is (4751, 20)\n"
     ]
    }
   ],
   "source": [
    "## Get denormalised predictions on test set ## \n",
    "def get_test_preds(model, test_dataloader):\n",
    "    \"\"\"\n",
    "    Performs inference on test data and returns denormalized predictions. Requires the denormalize function, defined previously.\n",
    "\n",
    "    Parameters:\n",
    "    - model (torch.nn.Module): PyTorch model used for inference.\n",
    "    - test_dataloader (torch.utils.data.DataLoader): DataLoader for the test set.\n",
    "\n",
    "    Returns: \n",
    "    - test_preds (np.array): denormalized predictions. \n",
    "    \"\"\"\n",
    "    model.eval()\n",
    "    test_preds = []\n",
    "    with torch.inference_mode():\n",
    "        for x_batch in test_dataloader:\n",
    "            preds = model(x_batch[0].to(device).unsqueeze(1)).cpu().detach().numpy()\n",
    "            test_preds.append(denormalize(scaler, preds)) \n",
    "\n",
    "    # Concatenate the list of numpy arrays\n",
    "    return np.concatenate(test_preds)\n",
    "\n",
    "test_j_preds = get_test_preds(JWSTModel, test_j_dataloader)\n",
    "test_a_preds = get_test_preds(APOGEEModel, test_a_dataloader)\n",
    "\n",
    "## Print shape of preds ## \n",
    "print(f\"Shape of JWST test predictions is {test_j_preds.shape}\") \n",
    "print(f\"Shape of APOGEE test predictions is {test_a_preds.shape}\")"
   ]
  },
  {
   "cell_type": "markdown",
   "id": "eae89083-f556-4d65-8ab9-b342af8efe25",
   "metadata": {},
   "source": [
    "### **4.2. Plot residuals** <a class=\"anchor\" id=\"plot-residuals\"></a>"
   ]
  },
  {
   "cell_type": "code",
   "execution_count": 34,
   "id": "f6afd0a1-0511-4e76-8f20-0c1185032497",
   "metadata": {},
   "outputs": [],
   "source": [
    "## Get indices of JWST and APOGEE test sets (note: they are the same) ## \n",
    "test_indices = [np.where((jwst_labels_scaled.values == y_j_test[i]).all(axis=1))[0][0] for i in range(len(y_j_test))]"
   ]
  },
  {
   "cell_type": "code",
   "execution_count": 35,
   "id": "c674b4c0-9619-488a-a5e5-a4ec321c64c1",
   "metadata": {},
   "outputs": [],
   "source": [
    "## Get residuals ## \n",
    "jwst_residuals = denormalize(scaler, y_j_test) - test_j_preds # alternatively, jwst_labels.iloc[test_j_indices] - test_j_preds\n",
    "apogee_residuals = denormalize(scaler, y_a_test) - test_a_preds "
   ]
  },
  {
   "cell_type": "code",
   "execution_count": 36,
   "id": "2aa26c10-6e5a-4a31-a08b-0336bf061213",
   "metadata": {},
   "outputs": [],
   "source": [
    "## Get SNR values ## \n",
    "z = np.array((noise_to_signal**(-1))[test_indices]) \n",
    "\n",
    "## Truncate SNR at ~90th percentile ## \n",
    "z[z > round(np.percentile(z, 90), -2)] = round(np.percentile(z, 90), -2) "
   ]
  },
  {
   "cell_type": "code",
   "execution_count": 37,
   "id": "89988abc-e55c-417c-ad7c-c74e50787073",
   "metadata": {},
   "outputs": [
    {
     "name": "stdout",
     "output_type": "stream",
     "text": [
      "SNR 50th, 90th percentile: (300.0, 700.0)\n"
     ]
    }
   ],
   "source": [
    "## Re-order SNR and residuals ## \n",
    "#order = z.reshape(z.shape[0], ).argsort() \n",
    "\n",
    "#z = z[order] \n",
    "jwst_true = denormalize(scaler, y_j_test)#[order] \n",
    "apogee_true = denormalize(scaler, y_a_test)#[order] \n",
    "jwst_residuals = jwst_residuals#[order]\n",
    "apogee_residuals = apogee_residuals#[order]\n",
    "\n",
    "## Sort indices according to SNR threshold ## \n",
    "indices_a = np.where(z >= round(np.percentile(z, 50), -2)) \n",
    "indices_b = np.where(z < round(np.percentile(z, 50), -2))\n",
    "\n",
    "## Print cut-offs ##\n",
    "print(f\"SNR 50th, 90th percentile: {round(np.percentile(z, 50), -2), round(np.percentile(z, 90), -2)}\")\n",
    "\n",
    "## Filter residuals based on SNR thresholds ## \n",
    "#resid_j_a = jwst_residuals[indices_a,:]; resid_j_b = jwst_residuals[indices_b,:] \n",
    "#resid_a_a = apogee_residuals[indices_a,:]; resid_a_b = apogee_residuals[indices_b,:]"
   ]
  },
  {
   "cell_type": "code",
   "execution_count": 38,
   "id": "13ccdb92-d2ad-411a-bc36-4d394ac0955e",
   "metadata": {},
   "outputs": [],
   "source": [
    "## Define bias and scatter ## \n",
    "bias_j = np.median(jwst_residuals, axis=0); bias_a = np.median(apogee_residuals, axis = 0)\n",
    "scatter_j = np.std(jwst_residuals, axis=0); scatter_a = np.std(apogee_residuals, axis = 0)"
   ]
  },
  {
   "cell_type": "code",
   "execution_count": 39,
   "id": "fedf4003-b41d-48a9-891e-58aaee715ab5",
   "metadata": {},
   "outputs": [],
   "source": [
    "def plot_residuals(targets, residue, z, resid_a, resid_b, bias, scatter, model_name):\n",
    "    \"\"\"\n",
    "    Plot residuals and their distributions for all labels.\n",
    "    \n",
    "    Parameters:\n",
    "    - targets: Array of true target values.\n",
    "    - residue: Array of residuals for each label.\n",
    "    - z: Array of SNR values used for coloring the scatter plots.\n",
    "    - resid_a: Residuals for SNR values above the threshold.\n",
    "    - resid_b: Residuals for SNR values below the threshold.\n",
    "    - bias: List of bias values for each label.\n",
    "    - scatter: List of scatter values for each label.\n",
    "    - model_name: 'APOGEE' or 'JWST'.  \n",
    "    \"\"\"\n",
    "    \n",
    "    num_labels = targets.shape[1]\n",
    "\n",
    "    # Create a figure with subplots\n",
    "    fig = plt.figure(figsize=(20, 50))\n",
    "    gs = gridspec.GridSpec(20, 2, width_ratios=[4., 1.])\n",
    "\n",
    "    for i in range(num_labels):\n",
    "        # Scatter plot for residuals\n",
    "        ax0 = plt.subplot(gs[i, 0])\n",
    "        points = ax0.scatter(targets[:, i], residue[:, i], c=z, s=20, cmap=cmap)\n",
    "\n",
    "        ax0.set_xlabel(f'True {label_names[i]}', fontsize=14)\n",
    "        ax0.set_ylabel(rf'$\\Delta$ {label_names[i]}' + f'\\n(True - {model_name} Pred)', fontsize=14)\n",
    "        ax0.tick_params(labelsize=12, width=1, length=5)\n",
    "\n",
    "        # KDE plot for residual distributions\n",
    "        ax1 = plt.subplot(gs[i, 1])\n",
    "        sns.kdeplot(y=resid_a[0, :, i], color=cmap(200), lw=3, ax=ax1, label='SNR $\\geq$300')\n",
    "        sns.kdeplot(y=resid_b[0, :, i], color=cmap(100), lw=3, ax=ax1, label='SNR $<$300')\n",
    "        if i == 0:\n",
    "            plt.legend()\n",
    "\n",
    "        ax1.tick_params(right=True, labelleft=False, labelright=True, labelbottom=False, labelsize=12, width=1, length=5)\n",
    "        ax1.set_xlabel('')\n",
    "\n",
    "        # Display bias and scatter values\n",
    "        bbox_props = dict(boxstyle=\"square,pad=0.3\", fc=\"w\", ec=\"k\", lw=1)\n",
    "        plt.figtext(0.1, 0.99 - (i*0.05),\n",
    "                    rf'$\\widetilde{{m}}$={bias[i]:.3f}  $s$={scatter[i]:.3f}',\n",
    "                    size=14, bbox=bbox_props)\n",
    "\n",
    "    # Add colorbar\n",
    "    cbar_ax = fig.add_axes([0.9, 0.1, 0.02, 0.83])\n",
    "    cbar = fig.colorbar(points, cax=cbar_ax)\n",
    "    cbar.set_label('SNR', size=14)\n",
    "    cbar.ax.tick_params(labelsize=14, width=1, length=5)\n",
    "    cbar.set_ticks([200, 300, 400, 500, 600, 700])\n",
    "    cbar.set_ticklabels(['200', '300', '400', '500', '600', '$>$700'])\n",
    "    plt.tight_layout()\n",
    "    fig.subplots_adjust(right=0.85)\n",
    "\n",
    "    plt.savefig(os.path.join(\"FIGURES\", f\"STARNet_{model_name}_residual_plots.png\"))\n",
    "    plt.show()\n",
    "\n",
    "#plot_residuals(jwst_true, jwst_residuals, z, resid_j_a, resid_j_b, bias_j, scatter_j, \"JWST\")\n",
    "#plot_residuals(apogee_true, jwst_residuals, z, resid_j_a, resid_j_b, bias_j, scatter_j, \"APOGEE\")"
   ]
  },
  {
   "attachments": {
    "c1dc25b9-284f-4cd0-8ecc-ff35d7d802b5.png": {
     "image/png": "[encoded data removed]"
    }
   },
   "cell_type": "markdown",
   "id": "00aebb9b-bd57-42f2-b7f1-6cb893dfe7e1",
   "metadata": {},
   "source": [
    "### **4.3. Get metrics** <a class=\"anchor\" id=\"get-metrics\"></a>\n",
    "\n",
    "<img src=\"attachment:c1dc25b9-284f-4cd0-8ecc-ff35d7d802b5.png\" width=\"30%\"> "
   ]
  },
  {
   "cell_type": "code",
   "execution_count": 40,
   "id": "2ca9ff5c-78d9-48b7-8fce-73dfddeaa5e0",
   "metadata": {},
   "outputs": [
    {
     "data": {
      "text/html": [
       "<div>\n",
       "<style scoped>\n",
       "    .dataframe tbody tr th:only-of-type {\n",
       "        vertical-align: middle;\n",
       "    }\n",
       "\n",
       "    .dataframe tbody tr th {\n",
       "        vertical-align: top;\n",
       "    }\n",
       "\n",
       "    .dataframe thead th {\n",
       "        text-align: right;\n",
       "    }\n",
       "</style>\n",
       "<table border=\"1\" class=\"dataframe\">\n",
       "  <thead>\n",
       "    <tr style=\"text-align: right;\">\n",
       "      <th></th>\n",
       "      <th>JWST Labels</th>\n",
       "      <th>MAE</th>\n",
       "      <th>MSE</th>\n",
       "      <th>RMSE</th>\n",
       "    </tr>\n",
       "  </thead>\n",
       "  <tbody>\n",
       "    <tr>\n",
       "      <th>0</th>\n",
       "      <td>$T_{\\mathrm{eff}}$</td>\n",
       "      <td>0.055</td>\n",
       "      <td>0.005</td>\n",
       "      <td>0.073</td>\n",
       "    </tr>\n",
       "    <tr>\n",
       "      <th>1</th>\n",
       "      <td>$\\log(g)$</td>\n",
       "      <td>0.141</td>\n",
       "      <td>0.033</td>\n",
       "      <td>0.182</td>\n",
       "    </tr>\n",
       "    <tr>\n",
       "      <th>2</th>\n",
       "      <td>$C$</td>\n",
       "      <td>0.109</td>\n",
       "      <td>0.021</td>\n",
       "      <td>0.147</td>\n",
       "    </tr>\n",
       "    <tr>\n",
       "      <th>3</th>\n",
       "      <td>$N$</td>\n",
       "      <td>0.070</td>\n",
       "      <td>0.009</td>\n",
       "      <td>0.097</td>\n",
       "    </tr>\n",
       "    <tr>\n",
       "      <th>4</th>\n",
       "      <td>$O$</td>\n",
       "      <td>0.087</td>\n",
       "      <td>0.013</td>\n",
       "      <td>0.115</td>\n",
       "    </tr>\n",
       "    <tr>\n",
       "      <th>5</th>\n",
       "      <td>$Na$</td>\n",
       "      <td>0.110</td>\n",
       "      <td>0.023</td>\n",
       "      <td>0.153</td>\n",
       "    </tr>\n",
       "    <tr>\n",
       "      <th>6</th>\n",
       "      <td>$Mg$</td>\n",
       "      <td>0.089</td>\n",
       "      <td>0.014</td>\n",
       "      <td>0.118</td>\n",
       "    </tr>\n",
       "    <tr>\n",
       "      <th>7</th>\n",
       "      <td>$Al$</td>\n",
       "      <td>0.101</td>\n",
       "      <td>0.019</td>\n",
       "      <td>0.138</td>\n",
       "    </tr>\n",
       "    <tr>\n",
       "      <th>8</th>\n",
       "      <td>$Si$</td>\n",
       "      <td>0.082</td>\n",
       "      <td>0.012</td>\n",
       "      <td>0.107</td>\n",
       "    </tr>\n",
       "    <tr>\n",
       "      <th>9</th>\n",
       "      <td>$S$</td>\n",
       "      <td>0.085</td>\n",
       "      <td>0.013</td>\n",
       "      <td>0.112</td>\n",
       "    </tr>\n",
       "    <tr>\n",
       "      <th>10</th>\n",
       "      <td>$K$</td>\n",
       "      <td>0.107</td>\n",
       "      <td>0.021</td>\n",
       "      <td>0.145</td>\n",
       "    </tr>\n",
       "    <tr>\n",
       "      <th>11</th>\n",
       "      <td>$Ca$</td>\n",
       "      <td>0.079</td>\n",
       "      <td>0.011</td>\n",
       "      <td>0.103</td>\n",
       "    </tr>\n",
       "    <tr>\n",
       "      <th>12</th>\n",
       "      <td>$Ti$</td>\n",
       "      <td>0.103</td>\n",
       "      <td>0.018</td>\n",
       "      <td>0.134</td>\n",
       "    </tr>\n",
       "    <tr>\n",
       "      <th>13</th>\n",
       "      <td>$V$</td>\n",
       "      <td>0.111</td>\n",
       "      <td>0.023</td>\n",
       "      <td>0.153</td>\n",
       "    </tr>\n",
       "    <tr>\n",
       "      <th>14</th>\n",
       "      <td>$Cr$</td>\n",
       "      <td>0.088</td>\n",
       "      <td>0.014</td>\n",
       "      <td>0.120</td>\n",
       "    </tr>\n",
       "    <tr>\n",
       "      <th>15</th>\n",
       "      <td>$Mn$</td>\n",
       "      <td>0.088</td>\n",
       "      <td>0.014</td>\n",
       "      <td>0.120</td>\n",
       "    </tr>\n",
       "    <tr>\n",
       "      <th>16</th>\n",
       "      <td>$Fe$</td>\n",
       "      <td>0.077</td>\n",
       "      <td>0.010</td>\n",
       "      <td>0.102</td>\n",
       "    </tr>\n",
       "    <tr>\n",
       "      <th>17</th>\n",
       "      <td>$Co$</td>\n",
       "      <td>0.092</td>\n",
       "      <td>0.016</td>\n",
       "      <td>0.126</td>\n",
       "    </tr>\n",
       "    <tr>\n",
       "      <th>18</th>\n",
       "      <td>$Ni$</td>\n",
       "      <td>0.079</td>\n",
       "      <td>0.011</td>\n",
       "      <td>0.106</td>\n",
       "    </tr>\n",
       "    <tr>\n",
       "      <th>19</th>\n",
       "      <td>$Ce$</td>\n",
       "      <td>0.110</td>\n",
       "      <td>0.021</td>\n",
       "      <td>0.146</td>\n",
       "    </tr>\n",
       "  </tbody>\n",
       "</table>\n",
       "</div>"
      ],
      "text/plain": [
       "           JWST Labels    MAE    MSE   RMSE\n",
       "0   $T_{\\mathrm{eff}}$  0.055  0.005  0.073\n",
       "1            $\\log(g)$  0.141  0.033  0.182\n",
       "2                  $C$  0.109  0.021  0.147\n",
       "3                  $N$  0.070  0.009  0.097\n",
       "4                  $O$  0.087  0.013  0.115\n",
       "5                 $Na$  0.110  0.023  0.153\n",
       "6                 $Mg$  0.089  0.014  0.118\n",
       "7                 $Al$  0.101  0.019  0.138\n",
       "8                 $Si$  0.082  0.012  0.107\n",
       "9                  $S$  0.085  0.013  0.112\n",
       "10                 $K$  0.107  0.021  0.145\n",
       "11                $Ca$  0.079  0.011  0.103\n",
       "12                $Ti$  0.103  0.018  0.134\n",
       "13                 $V$  0.111  0.023  0.153\n",
       "14                $Cr$  0.088  0.014  0.120\n",
       "15                $Mn$  0.088  0.014  0.120\n",
       "16                $Fe$  0.077  0.010  0.102\n",
       "17                $Co$  0.092  0.016  0.126\n",
       "18                $Ni$  0.079  0.011  0.106\n",
       "19                $Ce$  0.110  0.021  0.146"
      ]
     },
     "execution_count": 40,
     "metadata": {},
     "output_type": "execute_result"
    }
   ],
   "source": [
    "def get_metrics(targets, test_preds, model_name):\n",
    "    \"\"\"\n",
    "    Calculate evaluation metrics for each label in a set of predictions.\n",
    "\n",
    "    Parameters:\n",
    "    - targets (np.array): true target values.\n",
    "    - test_preds (np.array): predicted test values.\n",
    "    - model_name (str): 'APOGEE' or 'JWST'. \n",
    "\n",
    "    Returns:\n",
    "    - DataFrame containing MAE, MSE, RMSE for each label, rounded to 3 decimal places. \n",
    "    \"\"\"\n",
    "\n",
    "    MAE = []\n",
    "    MSE = []\n",
    "    RMSE = [] \n",
    "\n",
    "    targets = pd.DataFrame(targets) \n",
    "    test_preds = pd.DataFrame(test_preds)\n",
    "\n",
    "    for i in range(test_preds.shape[1]):\n",
    "        MAE.append(mean_absolute_error(targets[i], test_preds[i]))\n",
    "        MSE.append(mean_squared_error(targets[i], test_preds[i]))\n",
    "        RMSE.append(np.sqrt(mean_squared_error(targets[i], test_preds[i]))) \n",
    "\n",
    "    metrics = pd.DataFrame({\n",
    "        f'{model_name} Labels': label_names,\n",
    "        'MAE': MAE,\n",
    "        'MSE': MSE,\n",
    "        'RMSE': RMSE\n",
    "    }).round(3)\n",
    "\n",
    "    return metrics \n",
    "\n",
    "get_metrics(jwst_true, test_j_preds, \"JWST\")"
   ]
  },
  {
   "cell_type": "code",
   "execution_count": 41,
   "id": "044bcd3d-3789-4a49-92e7-cbd92a10ecbb",
   "metadata": {},
   "outputs": [
    {
     "data": {
      "text/html": [
       "<div>\n",
       "<style scoped>\n",
       "    .dataframe tbody tr th:only-of-type {\n",
       "        vertical-align: middle;\n",
       "    }\n",
       "\n",
       "    .dataframe tbody tr th {\n",
       "        vertical-align: top;\n",
       "    }\n",
       "\n",
       "    .dataframe thead th {\n",
       "        text-align: right;\n",
       "    }\n",
       "</style>\n",
       "<table border=\"1\" class=\"dataframe\">\n",
       "  <thead>\n",
       "    <tr style=\"text-align: right;\">\n",
       "      <th></th>\n",
       "      <th>APOGEE Labels</th>\n",
       "      <th>MAE</th>\n",
       "      <th>MSE</th>\n",
       "      <th>RMSE</th>\n",
       "    </tr>\n",
       "  </thead>\n",
       "  <tbody>\n",
       "    <tr>\n",
       "      <th>0</th>\n",
       "      <td>$T_{\\mathrm{eff}}$</td>\n",
       "      <td>0.019</td>\n",
       "      <td>0.001</td>\n",
       "      <td>0.027</td>\n",
       "    </tr>\n",
       "    <tr>\n",
       "      <th>1</th>\n",
       "      <td>$\\log(g)$</td>\n",
       "      <td>0.064</td>\n",
       "      <td>0.007</td>\n",
       "      <td>0.086</td>\n",
       "    </tr>\n",
       "    <tr>\n",
       "      <th>2</th>\n",
       "      <td>$C$</td>\n",
       "      <td>0.052</td>\n",
       "      <td>0.006</td>\n",
       "      <td>0.076</td>\n",
       "    </tr>\n",
       "    <tr>\n",
       "      <th>3</th>\n",
       "      <td>$N$</td>\n",
       "      <td>0.050</td>\n",
       "      <td>0.007</td>\n",
       "      <td>0.082</td>\n",
       "    </tr>\n",
       "    <tr>\n",
       "      <th>4</th>\n",
       "      <td>$O$</td>\n",
       "      <td>0.038</td>\n",
       "      <td>0.003</td>\n",
       "      <td>0.053</td>\n",
       "    </tr>\n",
       "    <tr>\n",
       "      <th>5</th>\n",
       "      <td>$Na$</td>\n",
       "      <td>0.082</td>\n",
       "      <td>0.015</td>\n",
       "      <td>0.124</td>\n",
       "    </tr>\n",
       "    <tr>\n",
       "      <th>6</th>\n",
       "      <td>$Mg$</td>\n",
       "      <td>0.041</td>\n",
       "      <td>0.003</td>\n",
       "      <td>0.057</td>\n",
       "    </tr>\n",
       "    <tr>\n",
       "      <th>7</th>\n",
       "      <td>$Al$</td>\n",
       "      <td>0.051</td>\n",
       "      <td>0.007</td>\n",
       "      <td>0.081</td>\n",
       "    </tr>\n",
       "    <tr>\n",
       "      <th>8</th>\n",
       "      <td>$Si$</td>\n",
       "      <td>0.035</td>\n",
       "      <td>0.002</td>\n",
       "      <td>0.050</td>\n",
       "    </tr>\n",
       "    <tr>\n",
       "      <th>9</th>\n",
       "      <td>$S$</td>\n",
       "      <td>0.055</td>\n",
       "      <td>0.006</td>\n",
       "      <td>0.076</td>\n",
       "    </tr>\n",
       "    <tr>\n",
       "      <th>10</th>\n",
       "      <td>$K$</td>\n",
       "      <td>0.067</td>\n",
       "      <td>0.010</td>\n",
       "      <td>0.101</td>\n",
       "    </tr>\n",
       "    <tr>\n",
       "      <th>11</th>\n",
       "      <td>$Ca$</td>\n",
       "      <td>0.037</td>\n",
       "      <td>0.003</td>\n",
       "      <td>0.051</td>\n",
       "    </tr>\n",
       "    <tr>\n",
       "      <th>12</th>\n",
       "      <td>$Ti$</td>\n",
       "      <td>0.050</td>\n",
       "      <td>0.005</td>\n",
       "      <td>0.069</td>\n",
       "    </tr>\n",
       "    <tr>\n",
       "      <th>13</th>\n",
       "      <td>$V$</td>\n",
       "      <td>0.076</td>\n",
       "      <td>0.013</td>\n",
       "      <td>0.112</td>\n",
       "    </tr>\n",
       "    <tr>\n",
       "      <th>14</th>\n",
       "      <td>$Cr$</td>\n",
       "      <td>0.051</td>\n",
       "      <td>0.006</td>\n",
       "      <td>0.077</td>\n",
       "    </tr>\n",
       "    <tr>\n",
       "      <th>15</th>\n",
       "      <td>$Mn$</td>\n",
       "      <td>0.045</td>\n",
       "      <td>0.004</td>\n",
       "      <td>0.063</td>\n",
       "    </tr>\n",
       "    <tr>\n",
       "      <th>16</th>\n",
       "      <td>$Fe$</td>\n",
       "      <td>0.032</td>\n",
       "      <td>0.002</td>\n",
       "      <td>0.044</td>\n",
       "    </tr>\n",
       "    <tr>\n",
       "      <th>17</th>\n",
       "      <td>$Co$</td>\n",
       "      <td>0.050</td>\n",
       "      <td>0.005</td>\n",
       "      <td>0.073</td>\n",
       "    </tr>\n",
       "    <tr>\n",
       "      <th>18</th>\n",
       "      <td>$Ni$</td>\n",
       "      <td>0.032</td>\n",
       "      <td>0.002</td>\n",
       "      <td>0.046</td>\n",
       "    </tr>\n",
       "    <tr>\n",
       "      <th>19</th>\n",
       "      <td>$Ce$</td>\n",
       "      <td>0.086</td>\n",
       "      <td>0.014</td>\n",
       "      <td>0.118</td>\n",
       "    </tr>\n",
       "  </tbody>\n",
       "</table>\n",
       "</div>"
      ],
      "text/plain": [
       "         APOGEE Labels    MAE    MSE   RMSE\n",
       "0   $T_{\\mathrm{eff}}$  0.019  0.001  0.027\n",
       "1            $\\log(g)$  0.064  0.007  0.086\n",
       "2                  $C$  0.052  0.006  0.076\n",
       "3                  $N$  0.050  0.007  0.082\n",
       "4                  $O$  0.038  0.003  0.053\n",
       "5                 $Na$  0.082  0.015  0.124\n",
       "6                 $Mg$  0.041  0.003  0.057\n",
       "7                 $Al$  0.051  0.007  0.081\n",
       "8                 $Si$  0.035  0.002  0.050\n",
       "9                  $S$  0.055  0.006  0.076\n",
       "10                 $K$  0.067  0.010  0.101\n",
       "11                $Ca$  0.037  0.003  0.051\n",
       "12                $Ti$  0.050  0.005  0.069\n",
       "13                 $V$  0.076  0.013  0.112\n",
       "14                $Cr$  0.051  0.006  0.077\n",
       "15                $Mn$  0.045  0.004  0.063\n",
       "16                $Fe$  0.032  0.002  0.044\n",
       "17                $Co$  0.050  0.005  0.073\n",
       "18                $Ni$  0.032  0.002  0.046\n",
       "19                $Ce$  0.086  0.014  0.118"
      ]
     },
     "execution_count": 41,
     "metadata": {},
     "output_type": "execute_result"
    }
   ],
   "source": [
    "get_metrics(apogee_true, test_a_preds, \"APOGEE\")"
   ]
  },
  {
   "cell_type": "markdown",
   "id": "6dc6d78c-7feb-4a10-9e15-451bdb74e36a",
   "metadata": {},
   "source": [
    "## **5. Appendix** <a class=\"anchor\" id=\"appendix\"></a>\n",
    "OLD VERSIONS OF NOTEBOOK AVAILABLE IN `/SCRATCH/OLD_NOTEBOOKS`:\n",
    "- `JWSTNet.ipynb`\n",
    "- `APOGEENet.ipynb` "
   ]
  },
  {
   "cell_type": "markdown",
   "id": "ae9c9ce5-f434-4d11-a075-3ebe8c422699",
   "metadata": {},
   "source": [
    "## **6. References** <a class=\"anchor\" id=\"refs\"></a>\n",
    "**Literature** \n",
    "Fabbro, S., “An application of deep learning in the analysis of stellar spectra”, <i>Monthly Notices of the Royal Astronomical Society</i>, vol. 475, no. 3, OUP, pp. 2978–2993, 2018. doi:10.1093/mnras/stx3298.\n",
    "\n",
    "**Code** \n",
    "https://github.com/astroai/starnet/blob/master/4_Train_Model_pytorch.ipynb "
   ]
  }
 ],
 "metadata": {
  "kernelspec": {
   "display_name": "Python 3 (ipykernel)",
   "language": "python",
   "name": "python3"
  },
  "language_info": {
   "codemirror_mode": {
    "name": "ipython",
    "version": 3
   },
   "file_extension": ".py",
   "mimetype": "text/x-python",
   "name": "python",
   "nbconvert_exporter": "python",
   "pygments_lexer": "ipython3",
   "version": "3.10.14"
  }
 },
 "nbformat": 4,
 "nbformat_minor": 5
}
